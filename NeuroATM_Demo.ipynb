
{
 "cells": [
  {
   "cell_type": "code",
   "execution_count": null,
   "metadata": {},
   "outputs": [],
   "source": [
    "# Это ядро NeuroATM\n",
    "class NeuroATM:\n",
    "    def __init__(self):\n",
    "        self.memory = []\n",
    "        self.success_memory = []\n",
    "\n",
    "    def observe(self, tokens):\n",
    "        self.current_observation = tokens\n",
    "        return tokens\n",
    "\n",
    "    def evaluate_result(self, success):\n",
    "        if success:\n",
    "            self.success_memory.append(self.current_observation)\n",
    "        else:\n",
    "            self.memory.append(self.current_observation)\n",
    "\n",
    "    def get_behavior_vector(self):\n",
    "        if not self.success_memory:\n",
    "            return [\"нет успешных шаблонов\"]\n",
    "        from collections import Counter\n",
    "        flat = [item for sublist in self.success_memory for item in sublist]\n",
    "        common = Counter(flat).most_common(3)\n",
    "        return [word for word, _ in common]\n",
    "\n",
    "# Создаём агента\n",
    "agent = NeuroATM()\n",
    "\n",
    "# Агент сначала ошибается\n",
    "agent.observe(['стена', 'влево', 'удар'])\n",
    "agent.evaluate_result(False)\n",
    "agent.observe(['стена', 'влево', 'удар'])\n",
    "agent.evaluate_result(False)\n",
    "\n",
    "# Потом он находит успешный путь\n",
    "agent.observe(['стена', 'вправо', 'прошёл'])\n",
    "agent.evaluate_result(True)\n",
    "\n",
    "# Теперь проверим, что он запомнил\n",
    "print(\"Память об успехах:\", agent.success_memory)\n",
    "print(\"Поведенческий вектор агента:\", agent.get_behavior_vector())"
   ]
  }
 ],
 "metadata": {
  "colab": {
   "name": "NeuroATM_Demo.ipynb",
   "provenance": []
  },
  "kernelspec": {
   "display_name": "Python 3",
   "language": "python",
   "name": "python3"
  },
  "language_info": {
   "name": "python"
  }
 },
 "nbformat": 4,
 "nbformat_minor": 0
}
